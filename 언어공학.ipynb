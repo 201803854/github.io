{
  "nbformat": 4,
  "nbformat_minor": 0,
  "metadata": {
    "colab": {
      "provenance": [],
      "toc_visible": true,
      "mount_file_id": "1blSyAJejiBQ-S4P1O3Hq9ZwcnM2DRkxt",
      "authorship_tag": "ABX9TyN8y9fkf/YTTxtVQU3bSPQI",
      "include_colab_link": true
    },
    "kernelspec": {
      "name": "python3",
      "display_name": "Python 3"
    },
    "language_info": {
      "name": "python"
    }
  },
  "cells": [
    {
      "cell_type": "markdown",
      "metadata": {
        "id": "view-in-github",
        "colab_type": "text"
      },
      "source": [
        "<a href=\"https://colab.research.google.com/github/201803854/github.io/blob/main/%EC%96%B8%EC%96%B4%EA%B3%B5%ED%95%99.ipynb\" target=\"_parent\"><img src=\"https://colab.research.google.com/assets/colab-badge.svg\" alt=\"Open In Colab\"/></a>"
      ]
    },
    {
      "cell_type": "code",
      "source": [
        "from google.colab import drive\n",
        "drive.mount('/content/drive')"
      ],
      "metadata": {
        "colab": {
          "base_uri": "https://localhost:8080/"
        },
        "id": "oAeDS8JY_ArF",
        "outputId": "b026a924-f735-49ed-9d87-4a645b20ada6"
      },
      "execution_count": null,
      "outputs": [
        {
          "output_type": "stream",
          "name": "stdout",
          "text": [
            "Drive already mounted at /content/drive; to attempt to forcibly remount, call drive.mount(\"/content/drive\", force_remount=True).\n"
          ]
        }
      ]
    },
    {
      "cell_type": "markdown",
      "source": [],
      "metadata": {
        "id": "efBr1NgGCcLc"
      }
    },
    {
      "cell_type": "markdown",
      "source": [
        "# 사전에서 발음으로 단어찾기"
      ],
      "metadata": {
        "id": "pohcoRIHCiqO"
      }
    },
    {
      "cell_type": "code",
      "execution_count": null,
      "metadata": {
        "id": "PVKtF9FT_67V",
        "colab": {
          "base_uri": "https://localhost:8080/"
        },
        "outputId": "66cf01a8-8d04-4de1-fc16-177fe06765e1"
      },
      "outputs": [
        {
          "output_type": "stream",
          "name": "stdout",
          "text": [
            "['AY ', ' L AY K ', ' T UW ', ' R EH D ', ' AH ', ' B UH K']\n",
            " AH  : A\n",
            "AY  : AI\n",
            "AY  : AY(2)\n",
            "AY  : AYE\n",
            " B UH K : BOOK\n",
            "AY  : EYE\n",
            "AY  : I\n",
            "AY  : I.\n",
            " L AY K  : LIKE\n",
            " L AY K  : LYKE\n",
            " R EH D  : READ\n",
            " R EH D  : READE\n",
            " R EH D  : RED\n",
            " R EH D  : REDD\n",
            " T UW  : TEW(2)\n",
            " T UW  : THUY\n",
            " T UW  : TO\n",
            " T UW  : TOO\n",
            " T UW  : TU\n",
            " T UW  : TUE\n",
            " T UW  : TWO\n",
            " AH  : UH\n",
            " AH  : UHH\n",
            "I. LYKE TWO REDD UHH BOOK\n"
          ]
        }
      ],
      "source": [
        "cmubet = open(\"/content/drive/MyDrive/데이터 청년 캠퍼스/cmubet.txt\",'r')\n",
        "i = 0\n",
        "sentence = 'AY . L AY K . T UW . R EH D . AH . B UH K'\n",
        "tokens = sentence.upper().split('.')\n",
        "print(tokens)\n",
        "answer = [0 for i in range(len(tokens))]\n",
        "\n",
        "while True :\n",
        "\n",
        "  line = cmubet.readline()\n",
        "  if not line : break\n",
        "  token_line = line.split()\n",
        "\n",
        "\n",
        "  for i,token in enumerate(tokens) :\n",
        "    if ''.join(token_line[1:]) == ''.join(token.split()[:]) :\n",
        "      print(token,':',token_line[0])\n",
        "\n",
        "      answer[i]=token_line[0]\n",
        "print(\" \".join(answer))\n",
        "cmubet.close()\n"
      ]
    },
    {
      "cell_type": "markdown",
      "source": [
        "# Levenshtein distance"
      ],
      "metadata": {
        "id": "iocfqJE3C0mr"
      }
    },
    {
      "cell_type": "code",
      "source": [
        "sentence1 = input()\n",
        "sentence2 = input()\n",
        "\n",
        "table = [[0 for i in range(len(sentence1) + 2)] for j in range(len(sentence2) + 2)] # table 생성\n",
        "\n",
        "# table 값 넣기\n",
        "for i in range(len(sentence1) + 2):\n",
        "    if i >= 2:\n",
        "        table[0][i] = sentence1[i - 2] #문장 1 넣기\n",
        "        table[1][i] = i - 1 # 문장1의 문자당 값 지정\n",
        "\n",
        "for j in range(len(sentence2) + 2):\n",
        "    if j >= 2:\n",
        "        table[j][0] = sentence2[j - 2] # 문장 2 table에 넣기\n",
        "        table[j][1] = j - 1  # 문장2의 문자당 값 지정\n",
        "\n",
        "for i in range(2,len(sentence2) + 2): #  distance 알고리즘\n",
        "    for j in range(2,len(sentence1) + 2):\n",
        "        if sentence1[j - 2] == sentence2[i - 2]:\n",
        "            table[i][j] = min(table[i - 1][j] , table[i][j - 1] , table[i - 1][j - 1]) # letter가 같을 시 좌,우,대각선에서 가장 작은 수 가져옴\n",
        "        else:\n",
        "            table[i][j] = min(table[i - 1][j] + 1, table[i][j - 1] + 1, table[i - 1][j - 1] + 1) # letter가 다를 시 좌,우,대각선 +1을 한 후 가장 작은 수 가져옴\n",
        "\n",
        "print(table[len(sentence2)+1][len(sentence1)+1]) #출력"
      ],
      "metadata": {
        "colab": {
          "base_uri": "https://localhost:8080/"
        },
        "id": "BAUnrKPiDaMo",
        "outputId": "d0f67cf6-8c27-4f5f-aa3a-df9695279b08"
      },
      "execution_count": null,
      "outputs": [
        {
          "output_type": "stream",
          "name": "stdout",
          "text": [
            "cake\n",
            "cat\n",
            "2\n"
          ]
        }
      ]
    },
    {
      "cell_type": "markdown",
      "source": [
        "## 자모 분리\n"
      ],
      "metadata": {
        "id": "OecvwJioTVt5"
      }
    },
    {
      "cell_type": "code",
      "source": [
        "import re\n",
        "\n",
        "\n",
        "# 초성 리스트. 00 ~ 18\n",
        "CHOSUNG_LIST = ['ㄱ', 'ㄲ', 'ㄴ', 'ㄷ', 'ㄸ', 'ㄹ', 'ㅁ', 'ㅂ', 'ㅃ', 'ㅅ', 'ㅆ', 'ㅇ', 'ㅈ', 'ㅉ', 'ㅊ', 'ㅋ', 'ㅌ', 'ㅍ', 'ㅎ']\n",
        "# 중성 리스트. 00 ~ 20\n",
        "JUNGSUNG_LIST = ['ㅏ', 'ㅐ', 'ㅑ', 'ㅒ', 'ㅓ', 'ㅔ', 'ㅕ', 'ㅖ', 'ㅗ', 'ㅘ', 'ㅙ', 'ㅚ', 'ㅛ', 'ㅜ', 'ㅝ', 'ㅞ', 'ㅟ', 'ㅠ', 'ㅡ', 'ㅢ', 'ㅣ']\n",
        "# 종성 리스트. 00 ~ 27 + 1(1개 없음)\n",
        "JONGSUNG_LIST = [' ', 'ㄱ', 'ㄲ', 'ㄳ', 'ㄴ', 'ㄵ', 'ㄶ', 'ㄷ', 'ㄹ', 'ㄺ', 'ㄻ', 'ㄼ', 'ㄽ', 'ㄾ', 'ㄿ', 'ㅀ', 'ㅁ', 'ㅂ', 'ㅄ', 'ㅅ', 'ㅆ', 'ㅇ', 'ㅈ', 'ㅊ', 'ㅋ', 'ㅌ', 'ㅍ', 'ㅎ']\n",
        "\n",
        "def korean_to_be_englished(korean_word):\n",
        "    r_lst = []\n",
        "    for w in list(korean_word.strip()):\n",
        "        ## 영어인 경우 구분해서 작성함.\n",
        "        if '가'<=w<='힣':\n",
        "            ## 588개 마다 초성이 바뀜.\n",
        "            ch1 = (ord(w) - ord('가'))//588   # ord('가') 는 44032, 588은 중성 21개와 종성 없음 포함 28개를 곱한 수, 즉 초성은 588개마다 바뀜\n",
        "            ## 중성은 총 28가지 종류\n",
        "            ch2 = ((ord(w) - ord('가')) - (588*ch1)) // 28 # 중성은 종성 28개가 다 돌고 난후 바뀜\n",
        "            ch3 = (ord(w) - ord('가')) - (588*ch1) - 28*ch2\n",
        "            r_lst.extend([CHOSUNG_LIST[ch1], JUNGSUNG_LIST[ch2], JONGSUNG_LIST[ch3]])\n",
        "        else:\n",
        "            r_lst.extend([w])\n",
        "    return r_lst\n",
        "\n",
        "a = korean_to_be_englished(\"도레미파솔라시도레비\")\n",
        "print(a)\n"
      ],
      "metadata": {
        "colab": {
          "base_uri": "https://localhost:8080/"
        },
        "id": "4PyjUw8CTY6b",
        "outputId": "3caff973-e7b9-4953-e87d-5774807953bc"
      },
      "execution_count": 18,
      "outputs": [
        {
          "output_type": "stream",
          "name": "stdout",
          "text": [
            "['ㄷ', 'ㅗ', ' ', 'ㄹ', 'ㅔ', ' ', 'ㅁ', 'ㅣ', ' ', 'ㅍ', 'ㅏ', ' ', 'ㅅ', 'ㅗ', 'ㄹ', 'ㄹ', 'ㅏ', ' ', 'ㅅ', 'ㅣ', ' ', 'ㄷ', 'ㅗ', ' ', 'ㄹ', 'ㅔ', ' ', 'ㅂ', 'ㅣ', ' ']\n"
          ]
        }
      ]
    },
    {
      "cell_type": "markdown",
      "source": [
        "## 한국어 레반슈타인\n",
        "\n"
      ],
      "metadata": {
        "id": "ul47xbfErYaz"
      }
    },
    {
      "cell_type": "code",
      "source": [
        "sentence123 = input()\n",
        "sentence234 = input()\n",
        "sentence1 = korean_to_be_englished(sentence123)\n",
        "sentence2 = korean_to_be_englished(sentence234)\n",
        "table = [[0 for i in range(len(sentence1) + 2)] for j in range(len(sentence2) + 2)] # table 생성\n",
        "\n",
        "# table 값 넣기\n",
        "for i in range(len(sentence1) + 2):\n",
        "    if i >= 2:\n",
        "        table[0][i] = sentence1[i - 2] #문장 1 넣기\n",
        "        table[1][i] = i - 1 # 문장1의 문자당 값 지정\n",
        "\n",
        "for j in range(len(sentence2) + 2):\n",
        "    if j >= 2:\n",
        "        table[j][0] = sentence2[j - 2] # 문장 2 table에 넣기\n",
        "        table[j][1] = j - 1  # 문장2의 문자당 값 지정\n",
        "\n",
        "for i in range(2,len(sentence2) + 2): #  distance 알고리즘\n",
        "    for j in range(2,len(sentence1) + 2):\n",
        "        if sentence1[j - 2] == sentence2[i - 2]:\n",
        "            table[i][j] = min(table[i - 1][j] , table[i][j - 1] , table[i - 1][j - 1]) # letter가 같을 시 좌,우,대각선에서 가장 작은 수 가져옴\n",
        "        else:\n",
        "            table[i][j] = min(table[i - 1][j] + 1, table[i][j - 1] + 1, table[i - 1][j - 1] + 1) # letter가 다를 시 좌,우,대각선 +1을 한 후 가장 작은 수 가져옴\n",
        "\n",
        "print(table[len(sentence2)+1][len(sentence1)+1]) #출력"
      ],
      "metadata": {
        "colab": {
          "base_uri": "https://localhost:8080/"
        },
        "id": "juX_94rovZsE",
        "outputId": "74afd140-b204-4ea8-cd64-7fcc0336ff90"
      },
      "execution_count": 22,
      "outputs": [
        {
          "output_type": "stream",
          "name": "stdout",
          "text": [
            "내동생고기\n",
            "내동생 고기\n",
            "1\n"
          ]
        }
      ]
    }
  ]
}