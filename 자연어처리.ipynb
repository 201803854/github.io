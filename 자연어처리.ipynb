{
  "nbformat": 4,
  "nbformat_minor": 0,
  "metadata": {
    "colab": {
      "provenance": [],
      "authorship_tag": "ABX9TyNcZsB99CtDO2z7Bh6Mi2tS",
      "include_colab_link": true
    },
    "kernelspec": {
      "name": "python3",
      "display_name": "Python 3"
    },
    "language_info": {
      "name": "python"
    }
  },
  "cells": [
    {
      "cell_type": "markdown",
      "metadata": {
        "id": "view-in-github",
        "colab_type": "text"
      },
      "source": [
        "<a href=\"https://colab.research.google.com/github/201803854/github.io/blob/main/%EC%9E%90%EC%97%B0%EC%96%B4%EC%B2%98%EB%A6%AC.ipynb\" target=\"_parent\"><img src=\"https://colab.research.google.com/assets/colab-badge.svg\" alt=\"Open In Colab\"/></a>"
      ]
    },
    {
      "cell_type": "code",
      "execution_count": null,
      "metadata": {
        "id": "cq_2TzFjRmDK"
      },
      "outputs": [],
      "source": [
        "import torch\n",
        "import torch.nn as nn\n",
        "import torch.nn.functional as F\n",
        "import torchvision\n",
        "import torchvision.transforms as transforms\n"
      ]
    },
    {
      "cell_type": "code",
      "source": [
        "train_data ='you need to know how to code'\n",
        "\n",
        "word_set = set(train_data.split())\n",
        "\n",
        "vocab = {word : i+2 for i, word in enumerate(word_set)}\n",
        "\n",
        "vocab['<unk>'] = 0\n",
        "\n",
        "vocab['<pad>'] = 1\n",
        "print(vocab)"
      ],
      "metadata": {
        "id": "f4k0RGlBR3AQ",
        "colab": {
          "base_uri": "https://localhost:8080/"
        },
        "outputId": "cfb071d7-47f4-4bc0-d736-05c22650d29d"
      },
      "execution_count": 3,
      "outputs": [
        {
          "output_type": "stream",
          "name": "stdout",
          "text": [
            "{'to': 2, 'need': 3, 'how': 4, 'know': 5, 'code': 6, 'you': 7, '<unk>': 0, '<pad>': 1}\n"
          ]
        }
      ]
    },
    {
      "cell_type": "code",
      "source": [
        "embedding_table = torch.FloatTensor([\n",
        "    [0.0 , 0.0 , 0.0],\n",
        "    [0.0 , 0.0 , 0.0],\n",
        "    [0.2 , 0.9 , 0.3],\n",
        "    [0.1 , 0.5 , 0.7],\n",
        "    [0.2 , 0.1 , 0.8],\n",
        "    [0.4 , 0.1 , 0.1],\n",
        "    [0.1 , 0.8 , 0.9],\n",
        "    [0.6 , 0.1 , 0.1]\n",
        "\n",
        "])"
      ],
      "metadata": {
        "id": "l2ICila1S5rm"
      },
      "execution_count": 14,
      "outputs": []
    },
    {
      "cell_type": "code",
      "source": [
        "sample = 'you need to run'.split()\n",
        "idxes =[]\n",
        "\n",
        "for word in sample :\n",
        "  try :\n",
        "    idxes.append(vocab[word])\n",
        "  except KeyError :\n",
        "    idxes.append(vocab['<unk>'])\n",
        "idxes = torch.LongTensor(idxes)\n",
        "\n",
        "lookup_result = embedding_table[idxes, :]\n",
        "print(lookup_result)"
      ],
      "metadata": {
        "colab": {
          "base_uri": "https://localhost:8080/"
        },
        "id": "6v-S1i7yTAq6",
        "outputId": "2a8c7c06-8e7c-4736-beb8-264ba254ab98"
      },
      "execution_count": 15,
      "outputs": [
        {
          "output_type": "stream",
          "name": "stdout",
          "text": [
            "tensor([[0.6000, 0.1000, 0.1000],\n",
            "        [0.1000, 0.5000, 0.7000],\n",
            "        [0.2000, 0.9000, 0.3000],\n",
            "        [0.0000, 0.0000, 0.0000]])\n"
          ]
        }
      ]
    },
    {
      "cell_type": "code",
      "source": [
        "embedding_layer = nn.Embedding(num_embeddings = len(vocab),\n",
        "                               embedding_dim =3,\n",
        "                               padding_idx =1)"
      ],
      "metadata": {
        "id": "tQycQUE8U3ZI"
      },
      "execution_count": 16,
      "outputs": []
    },
    {
      "cell_type": "code",
      "source": [
        "print(embedding_layer.weight)"
      ],
      "metadata": {
        "colab": {
          "base_uri": "https://localhost:8080/"
        },
        "id": "OIf2goLxVGX7",
        "outputId": "3531a14d-f6d0-4b61-acba-06026a63120a"
      },
      "execution_count": 19,
      "outputs": [
        {
          "output_type": "stream",
          "name": "stdout",
          "text": [
            "Parameter containing:\n",
            "tensor([[-0.7998, -0.9787, -0.2641],\n",
            "        [ 0.0000,  0.0000,  0.0000],\n",
            "        [ 0.7953, -2.0407, -0.7737],\n",
            "        [-0.1394, -0.9416, -0.4208],\n",
            "        [ 0.2747, -0.2279,  1.5891],\n",
            "        [ 0.3832,  0.2509, -0.0546],\n",
            "        [ 1.7800,  0.1363,  0.7747],\n",
            "        [-1.0720, -0.3834, -0.2288]], requires_grad=True)\n"
          ]
        }
      ]
    }
  ]
}