{
  "cells": [
    {
      "cell_type": "markdown",
      "metadata": {
        "id": "view-in-github",
        "colab_type": "text"
      },
      "source": [
        "<a href=\"https://colab.research.google.com/github/201803854/github.io/blob/main/ML04_given_code.ipynb\" target=\"_parent\"><img src=\"https://colab.research.google.com/assets/colab-badge.svg\" alt=\"Open In Colab\"/></a>"
      ]
    },
    {
      "cell_type": "markdown",
      "id": "5a068fc9",
      "metadata": {
        "id": "5a068fc9"
      },
      "source": [
        "# Day04 : Multilayer Perceptron"
      ]
    },
    {
      "cell_type": "markdown",
      "id": "6428d746-fd3e-4214-bab4-63967e277522",
      "metadata": {
        "tags": [],
        "id": "6428d746-fd3e-4214-bab4-63967e277522"
      },
      "source": [
        "- **Team ID** : 00조"
      ]
    },
    {
      "cell_type": "markdown",
      "id": "71b2c554-9d45-4626-9aa5-77011aa988c1",
      "metadata": {
        "tags": [],
        "id": "71b2c554-9d45-4626-9aa5-77011aa988c1"
      },
      "source": [
        "- Write and run the code below in jupyter notebook\n",
        "- After completion, rename the file, and summit the file to e-class\n",
        "- Submit file name : **“ML01\\_<#조\\>.ipynb”**, send me 김동현 <donghyunkim1217@gmail.com>\n",
        "  - Ex) ML01\\_#조\\.ipynb\n",
        "- Due : **오늘 16:59pm**"
      ]
    },
    {
      "cell_type": "markdown",
      "id": "00d9f8f3",
      "metadata": {
        "id": "00d9f8f3"
      },
      "source": [
        "# 1. Multilayer perceptron and backpropagation\n",
        "![image-2.png](attachment:image-2.png)"
      ]
    },
    {
      "cell_type": "markdown",
      "id": "1518c88d",
      "metadata": {
        "id": "1518c88d"
      },
      "source": [
        "### Sigmoid activation function\n",
        "![image.png](attachment:image.png)"
      ]
    },
    {
      "cell_type": "code",
      "execution_count": null,
      "id": "f38f8d99",
      "metadata": {
        "id": "f38f8d99"
      },
      "outputs": [],
      "source": [
        "import numpy as np\n",
        "\n",
        "# sigmoid function\n",
        "def sigmoid(z):\n",
        "    return 1. / (1. + np.exp(-np.clip(z, -250, 250)))  # np.clip - preventing overflow"
      ]
    },
    {
      "cell_type": "code",
      "execution_count": null,
      "id": "09359048",
      "metadata": {
        "id": "09359048",
        "outputId": "f5dc58a1-4efc-4b0c-ebde-1519d97904e3"
      },
      "outputs": [
        {
          "name": "stdout",
          "output_type": "stream",
          "text": [
            "sigmoid of z = \n",
            " [[0.73105858 0.5        0.26894142]\n",
            " [0.26894142 0.5        0.73105858]]\n"
          ]
        }
      ],
      "source": [
        "# test sigmoid\n",
        "z = np.array([[1.0, 0.0, -1.0],\n",
        "              [-1.0, 0.0, 1.0]])\n",
        "\n",
        "print(\"sigmoid of z = \\n\", sigmoid(z))"
      ]
    },
    {
      "cell_type": "markdown",
      "id": "463b4f0f",
      "metadata": {
        "id": "463b4f0f"
      },
      "source": [
        "### Softmax function\n",
        "![image.png](attachment:image.png)"
      ]
    },
    {
      "cell_type": "code",
      "execution_count": null,
      "id": "bb1c0db7",
      "metadata": {
        "id": "bb1c0db7"
      },
      "outputs": [],
      "source": [
        "# softmax function for 2D array\n",
        "def softmax(z):\n",
        "    exps = np.exp(z)\n",
        "    return None"
      ]
    },
    {
      "cell_type": "code",
      "execution_count": null,
      "id": "e6306a86",
      "metadata": {
        "id": "e6306a86",
        "outputId": "015c08c2-328c-4289-d0ca-72046598b2e2"
      },
      "outputs": [
        {
          "name": "stdout",
          "output_type": "stream",
          "text": [
            "softmax of z = \n",
            " [[0.66524096 0.24472847 0.09003057]\n",
            " [0.09003057 0.24472847 0.66524096]]\n",
            "sum of softmax values = \n",
            " [[1.]\n",
            " [1.]]\n"
          ]
        }
      ],
      "source": [
        "# test softmax\n",
        "z = np.array([[1.0, 0.0, -1.0],\n",
        "              [-1.0, 0.0, 1.0]])\n",
        "\n",
        "print(\"softmax of z = \\n\", softmax(z))\n",
        "print(\"sum of softmax values = \\n\", np.sum(softmax(z), axis=1, keepdims=True))"
      ]
    },
    {
      "cell_type": "markdown",
      "id": "ff41166b",
      "metadata": {
        "id": "ff41166b"
      },
      "source": [
        "### Example dataset"
      ]
    },
    {
      "cell_type": "code",
      "execution_count": null,
      "id": "27654113",
      "metadata": {
        "id": "27654113"
      },
      "outputs": [],
      "source": [
        "X = np.array([[0.5, 0.0, -0.5],\n",
        "              [-0.5, 0.0, 0.5]])\n",
        "y = np.array([[1, 0],\n",
        "             [0, 1]])"
      ]
    },
    {
      "cell_type": "markdown",
      "id": "c6dfe769",
      "metadata": {
        "id": "c6dfe769"
      },
      "source": [
        "### Example network\n",
        "![image-3.png](attachment:image-3.png)"
      ]
    },
    {
      "cell_type": "markdown",
      "id": "7ff4ae78",
      "metadata": {
        "id": "7ff4ae78"
      },
      "source": [
        "### Initial parameters"
      ]
    },
    {
      "cell_type": "code",
      "execution_count": null,
      "id": "96c4ca29",
      "metadata": {
        "id": "96c4ca29"
      },
      "outputs": [],
      "source": [
        "# weights and bias of hidden layer. w_h is (3, 2)\n",
        "w_h = np.array([[1, -1],\n",
        "                [0, 0],\n",
        "                [-1, 1]])\n",
        "b_h = [0.0, 0.0]\n",
        "\n",
        "# weights and bias of output layer. w_o is (2, 2)\n",
        "w_o = np.array([[1, -1],\n",
        "                [-1, 1]])\n",
        "b_o = [0.0, 0.0]"
      ]
    },
    {
      "cell_type": "markdown",
      "id": "d92f06ab",
      "metadata": {
        "id": "d92f06ab"
      },
      "source": [
        "### Forward computation"
      ]
    },
    {
      "cell_type": "markdown",
      "id": "319451cc",
      "metadata": {
        "id": "319451cc"
      },
      "source": [
        "![image-2.png](attachment:image-2.png)"
      ]
    },
    {
      "cell_type": "code",
      "execution_count": null,
      "id": "8596ee94",
      "metadata": {
        "id": "8596ee94",
        "outputId": "0930c5de-25e6-4353-e329-ee0d22e20ac3"
      },
      "outputs": [
        {
          "name": "stdout",
          "output_type": "stream",
          "text": [
            "[[ 0.5  0.  -0.5]\n",
            " [-0.5  0.   0.5]]\n"
          ]
        }
      ],
      "source": [
        "# input X\n",
        "print(X)"
      ]
    },
    {
      "cell_type": "code",
      "execution_count": null,
      "id": "f39037bd",
      "metadata": {
        "id": "f39037bd",
        "outputId": "28ac2df7-6879-4e01-83fd-4121e10a9570"
      },
      "outputs": [
        {
          "name": "stdout",
          "output_type": "stream",
          "text": [
            "[[ 1. -1.]\n",
            " [-1.  1.]]\n",
            "[[0.73105858 0.26894142]\n",
            " [0.26894142 0.73105858]]\n"
          ]
        }
      ],
      "source": [
        "# output of hidden layer\n",
        "z_h = None\n",
        "a_h = None\n",
        "\n",
        "print(z_h)\n",
        "print(a_h)"
      ]
    },
    {
      "cell_type": "code",
      "execution_count": null,
      "id": "892a3b81",
      "metadata": {
        "id": "892a3b81",
        "outputId": "d9e342e7-ed67-4329-a4b2-7c2eb552d6e3"
      },
      "outputs": [
        {
          "name": "stdout",
          "output_type": "stream",
          "text": [
            "[[ 0.46211716 -0.46211716]\n",
            " [-0.46211716  0.46211716]]\n",
            "[[0.71590409 0.28409591]\n",
            " [0.28409591 0.71590409]]\n"
          ]
        }
      ],
      "source": [
        "# output of output layer\n",
        "z_o = None\n",
        "a_o = None\n",
        "\n",
        "print(z_o)\n",
        "print(a_o)"
      ]
    },
    {
      "cell_type": "code",
      "execution_count": null,
      "id": "3afb8835",
      "metadata": {
        "id": "3afb8835",
        "outputId": "03d68d9f-06a9-42aa-db5d-925dc1442e70"
      },
      "outputs": [
        {
          "data": {
            "text/plain": [
              "array([0, 1], dtype=int64)"
            ]
          },
          "execution_count": 10,
          "metadata": {},
          "output_type": "execute_result"
        }
      ],
      "source": [
        "np.argmax(a_o, axis=1)"
      ]
    },
    {
      "cell_type": "markdown",
      "id": "ba38bcb0",
      "metadata": {
        "id": "ba38bcb0"
      },
      "source": [
        "### Compute cost\n",
        "![image-2.png](attachment:image-2.png)"
      ]
    },
    {
      "cell_type": "code",
      "execution_count": null,
      "id": "44a0135a",
      "metadata": {
        "id": "44a0135a",
        "outputId": "d4c1aa0b-0ade-4f43-893e-8036639bb5a9"
      },
      "outputs": [
        {
          "name": "stdout",
          "output_type": "stream",
          "text": [
            "0.334208933408766\n"
          ]
        }
      ],
      "source": [
        "# cross entropy loss\n",
        "cost = None\n",
        "\n",
        "print(cost)"
      ]
    },
    {
      "cell_type": "markdown",
      "id": "da664d49",
      "metadata": {
        "id": "da664d49"
      },
      "source": [
        "### Compute gradients\n",
        "![image-2.png](attachment:image-2.png)"
      ]
    },
    {
      "cell_type": "code",
      "execution_count": null,
      "id": "92d7cb8e",
      "metadata": {
        "id": "92d7cb8e"
      },
      "outputs": [],
      "source": [
        "# compute delta of output layer and hidden layer\n",
        "delta_o = None\n",
        "delta_h = None"
      ]
    },
    {
      "cell_type": "code",
      "execution_count": null,
      "id": "fb6740ca",
      "metadata": {
        "id": "fb6740ca",
        "outputId": "cb527403-2a26-460a-bfa8-d8f79d8299c4"
      },
      "outputs": [
        {
          "name": "stdout",
          "output_type": "stream",
          "text": [
            "[[-0.13128559  0.13128559]\n",
            " [ 0.13128559 -0.13128559]]\n",
            "[0. 0.]\n"
          ]
        }
      ],
      "source": [
        "# compute gradient of output layer\n",
        "grad_w_o = None\n",
        "grad_b_o = None\n",
        "\n",
        "print(grad_w_o)\n",
        "print(grad_b_o)"
      ]
    },
    {
      "cell_type": "code",
      "execution_count": null,
      "id": "9011cc1a",
      "metadata": {
        "id": "9011cc1a",
        "outputId": "5e2222b2-4495-4e00-b189-0e739bd8e2b3"
      },
      "outputs": [
        {
          "name": "stdout",
          "output_type": "stream",
          "text": [
            "[[-0.11171329  0.11171329]\n",
            " [ 0.          0.        ]\n",
            " [ 0.11171329 -0.11171329]]\n",
            "[0. 0.]\n"
          ]
        }
      ],
      "source": [
        "# compute gradient of hidden layer\n",
        "grad_w_h = None\n",
        "grad_b_h = None\n",
        "\n",
        "print(grad_w_h)\n",
        "print(grad_b_h)"
      ]
    },
    {
      "cell_type": "markdown",
      "id": "d583bc06",
      "metadata": {
        "id": "d583bc06"
      },
      "source": [
        "### Update parameters - gradient descent\n",
        "![image.png](attachment:image.png)"
      ]
    },
    {
      "cell_type": "code",
      "execution_count": null,
      "id": "7502ad3e",
      "metadata": {
        "id": "7502ad3e"
      },
      "outputs": [],
      "source": [
        "# learning rate\n",
        "alpha = 0.1\n",
        "\n",
        "# update parameters by gradient descent\n",
        "w_o = w_o - alpha * grad_w_o\n",
        "b_o = b_o - alpha * grad_b_o\n",
        "\n",
        "w_h = w_h - alpha * grad_w_h\n",
        "b_h = b_h - alpha * grad_b_h"
      ]
    },
    {
      "cell_type": "code",
      "execution_count": null,
      "id": "976a8e39",
      "metadata": {
        "id": "976a8e39",
        "outputId": "fdf6869d-dfe7-4cf3-c4de-f4845aaef01e"
      },
      "outputs": [
        {
          "name": "stdout",
          "output_type": "stream",
          "text": [
            "[[ 1.01312856 -1.01312856]\n",
            " [-1.01312856  1.01312856]]\n",
            "[0. 0.]\n",
            "[[ 1.01117133 -1.01117133]\n",
            " [ 0.          0.        ]\n",
            " [-1.01117133  1.01117133]]\n",
            "[0. 0.]\n"
          ]
        }
      ],
      "source": [
        "print(w_o)\n",
        "print(b_o)\n",
        "print(w_h)\n",
        "print(b_h)"
      ]
    },
    {
      "cell_type": "markdown",
      "id": "22dbe451",
      "metadata": {
        "id": "22dbe451"
      },
      "source": [
        "---"
      ]
    },
    {
      "cell_type": "markdown",
      "id": "c4253020",
      "metadata": {
        "id": "c4253020"
      },
      "source": [
        "# 2. Image Classification using Multilayer Perceptron"
      ]
    },
    {
      "cell_type": "markdown",
      "id": "b7dc6c92",
      "metadata": {
        "id": "b7dc6c92"
      },
      "source": [
        "### The MNIST image dataset"
      ]
    },
    {
      "cell_type": "code",
      "execution_count": null,
      "id": "35b6dbf2",
      "metadata": {
        "id": "35b6dbf2",
        "outputId": "a9369872-cfcb-4e44-cb8f-1ca0b0960ec6"
      },
      "outputs": [
        {
          "data": {
            "text/plain": [
              "{'__header__': b'MATLAB 5.0 MAT-file Platform: posix, Created on: Sun Mar 30 03:19:02 2014',\n",
              " '__version__': '1.0',\n",
              " '__globals__': [],\n",
              " 'mldata_descr_ordering': array([[array(['label'], dtype='<U5'), array(['data'], dtype='<U4')]],\n",
              "       dtype=object),\n",
              " 'data': array([[0, 0, 0, ..., 0, 0, 0],\n",
              "        [0, 0, 0, ..., 0, 0, 0],\n",
              "        [0, 0, 0, ..., 0, 0, 0],\n",
              "        ...,\n",
              "        [0, 0, 0, ..., 0, 0, 0],\n",
              "        [0, 0, 0, ..., 0, 0, 0],\n",
              "        [0, 0, 0, ..., 0, 0, 0]], dtype=uint8),\n",
              " 'label': array([[0., 0., 0., ..., 9., 9., 9.]])}"
            ]
          },
          "execution_count": 17,
          "metadata": {},
          "output_type": "execute_result"
        }
      ],
      "source": [
        "import matplotlib.pyplot as plt\n",
        "from scipy import io\n",
        "\n",
        "# load the MNIST dataset\n",
        "mnist = io.loadmat('mnist-original.mat')\n",
        "mnist"
      ]
    },
    {
      "cell_type": "code",
      "execution_count": null,
      "id": "fc92a71d",
      "metadata": {
        "id": "fc92a71d",
        "outputId": "fb6e2d49-7b2b-4828-b873-1a4dc5ecb8ca"
      },
      "outputs": [
        {
          "data": {
            "text/plain": [
              "(70000, 784)"
            ]
          },
          "execution_count": 18,
          "metadata": {},
          "output_type": "execute_result"
        }
      ],
      "source": [
        "# get X and y\n",
        "X = mnist['data']\n",
        "y = mnist['label']\n",
        "\n",
        "X = np.array(X).T\n",
        "X.shape"
      ]
    },
    {
      "cell_type": "code",
      "execution_count": null,
      "id": "4cdfda23",
      "metadata": {
        "id": "4cdfda23",
        "outputId": "c88943cf-a6c3-4a0f-fa67-450ef982b0ea"
      },
      "outputs": [
        {
          "data": {
            "text/plain": [
              "(70000,)"
            ]
          },
          "execution_count": 19,
          "metadata": {},
          "output_type": "execute_result"
        }
      ],
      "source": [
        "y = np.array(y).T.ravel()\n",
        "y.shape"
      ]
    },
    {
      "cell_type": "code",
      "execution_count": null,
      "id": "eb159efb",
      "metadata": {
        "id": "eb159efb",
        "outputId": "6c72a85d-f724-44f8-8e85-a1efd7369e18"
      },
      "outputs": [
        {
          "data": {
            "text/plain": [
              "array([  0,   0,   0,   0,   0,   0,   0,   0,   0,   0,   0,   0,   0,\n",
              "         0,   0,   0,   0,   0,   0,   0,   0,   0,   0,   0,   0,   0,\n",
              "         0,   0,   0,   0,   0,   0,   0,   0,   0,   0,   0,   0,   0,\n",
              "         0,   0,   0,   0,   0,   0,   0,   0,   0,   0,   0,   0,   0,\n",
              "         0,   0,   0,   0,   0,   0,   0,   0,   0,   0,   0,   0,   0,\n",
              "         0,   0,   0,   0,   0,   0,   0,   0,   0,   0,   0,   0,   0,\n",
              "         0,   0,   0,   0,   0,   0,   0,   0,   0,   0,   0,   0,   0,\n",
              "         0,   0,   0,   0,   0,   0,   0,   0,   0,   0,   0,   0,   0,\n",
              "         0,   0,   0,   0,   0,   0,   0,   0,   0,   0,   0,   0,   0,\n",
              "         0,   0,   0,   0,   0,   0,   0,   0,   0,   0,  51, 159, 253,\n",
              "       159,  50,   0,   0,   0,   0,   0,   0,   0,   0,   0,   0,   0,\n",
              "         0,   0,   0,   0,   0,   0,   0,   0,   0,   0,   0,  48, 238,\n",
              "       252, 252, 252, 237,   0,   0,   0,   0,   0,   0,   0,   0,   0,\n",
              "         0,   0,   0,   0,   0,   0,   0,   0,   0,   0,   0,   0,  54,\n",
              "       227, 253, 252, 239, 233, 252,  57,   6,   0,   0,   0,   0,   0,\n",
              "         0,   0,   0,   0,   0,   0,   0,   0,   0,   0,   0,   0,  10,\n",
              "        60, 224, 252, 253, 252, 202,  84, 252, 253, 122,   0,   0,   0,\n",
              "         0,   0,   0,   0,   0,   0,   0,   0,   0,   0,   0,   0,   0,\n",
              "         0, 163, 252, 252, 252, 253, 252, 252,  96, 189, 253, 167,   0,\n",
              "         0,   0,   0,   0,   0,   0,   0,   0,   0,   0,   0,   0,   0,\n",
              "         0,   0,  51, 238, 253, 253, 190, 114, 253, 228,  47,  79, 255,\n",
              "       168,   0,   0,   0,   0,   0,   0,   0,   0,   0,   0,   0,   0,\n",
              "         0,   0,   0,  48, 238, 252, 252, 179,  12,  75, 121,  21,   0,\n",
              "         0, 253, 243,  50,   0,   0,   0,   0,   0,   0,   0,   0,   0,\n",
              "         0,   0,   0,   0,  38, 165, 253, 233, 208,  84,   0,   0,   0,\n",
              "         0,   0,   0, 253, 252, 165,   0,   0,   0,   0,   0,   0,   0,\n",
              "         0,   0,   0,   0,   0,   7, 178, 252, 240,  71,  19,  28,   0,\n",
              "         0,   0,   0,   0,   0, 253, 252, 195,   0,   0,   0,   0,   0,\n",
              "         0,   0,   0,   0,   0,   0,   0,  57, 252, 252,  63,   0,   0,\n",
              "         0,   0,   0,   0,   0,   0,   0, 253, 252, 195,   0,   0,   0,\n",
              "         0,   0,   0,   0,   0,   0,   0,   0,   0, 198, 253, 190,   0,\n",
              "         0,   0,   0,   0,   0,   0,   0,   0,   0, 255, 253, 196,   0,\n",
              "         0,   0,   0,   0,   0,   0,   0,   0,   0,   0,  76, 246, 252,\n",
              "       112,   0,   0,   0,   0,   0,   0,   0,   0,   0,   0, 253, 252,\n",
              "       148,   0,   0,   0,   0,   0,   0,   0,   0,   0,   0,   0,  85,\n",
              "       252, 230,  25,   0,   0,   0,   0,   0,   0,   0,   0,   7, 135,\n",
              "       253, 186,  12,   0,   0,   0,   0,   0,   0,   0,   0,   0,   0,\n",
              "         0,  85, 252, 223,   0,   0,   0,   0,   0,   0,   0,   0,   7,\n",
              "       131, 252, 225,  71,   0,   0,   0,   0,   0,   0,   0,   0,   0,\n",
              "         0,   0,   0,  85, 252, 145,   0,   0,   0,   0,   0,   0,   0,\n",
              "        48, 165, 252, 173,   0,   0,   0,   0,   0,   0,   0,   0,   0,\n",
              "         0,   0,   0,   0,   0,  86, 253, 225,   0,   0,   0,   0,   0,\n",
              "         0, 114, 238, 253, 162,   0,   0,   0,   0,   0,   0,   0,   0,\n",
              "         0,   0,   0,   0,   0,   0,   0,  85, 252, 249, 146,  48,  29,\n",
              "        85, 178, 225, 253, 223, 167,  56,   0,   0,   0,   0,   0,   0,\n",
              "         0,   0,   0,   0,   0,   0,   0,   0,   0,  85, 252, 252, 252,\n",
              "       229, 215, 252, 252, 252, 196, 130,   0,   0,   0,   0,   0,   0,\n",
              "         0,   0,   0,   0,   0,   0,   0,   0,   0,   0,   0,  28, 199,\n",
              "       252, 252, 253, 252, 252, 233, 145,   0,   0,   0,   0,   0,   0,\n",
              "         0,   0,   0,   0,   0,   0,   0,   0,   0,   0,   0,   0,   0,\n",
              "         0,  25, 128, 252, 253, 252, 141,  37,   0,   0,   0,   0,   0,\n",
              "         0,   0,   0,   0,   0,   0,   0,   0,   0,   0,   0,   0,   0,\n",
              "         0,   0,   0,   0,   0,   0,   0,   0,   0,   0,   0,   0,   0,\n",
              "         0,   0,   0,   0,   0,   0,   0,   0,   0,   0,   0,   0,   0,\n",
              "         0,   0,   0,   0,   0,   0,   0,   0,   0,   0,   0,   0,   0,\n",
              "         0,   0,   0,   0,   0,   0,   0,   0,   0,   0,   0,   0,   0,\n",
              "         0,   0,   0,   0,   0,   0,   0,   0,   0,   0,   0,   0,   0,\n",
              "         0,   0,   0,   0,   0,   0,   0,   0,   0,   0,   0,   0,   0,\n",
              "         0,   0,   0,   0,   0,   0,   0,   0,   0,   0,   0,   0,   0,\n",
              "         0,   0,   0,   0,   0,   0,   0,   0,   0,   0,   0,   0,   0,\n",
              "         0,   0,   0,   0], dtype=uint8)"
            ]
          },
          "execution_count": 20,
          "metadata": {},
          "output_type": "execute_result"
        }
      ],
      "source": [
        "# check data 0 (image 0)\n",
        "\n",
        "X[0]"
      ]
    },
    {
      "cell_type": "code",
      "execution_count": null,
      "id": "8a2a0a72",
      "metadata": {
        "id": "8a2a0a72",
        "outputId": "43115aa7-00f4-4703-a9ed-fdb56b47a89c"
      },
      "outputs": [
        {
          "data": {
            "image/png": "[encoded data removed]",
            "text/plain": [
              "<Figure size 432x288 with 1 Axes>"
            ]
          },
          "metadata": {
            "needs_background": "light"
          },
          "output_type": "display_data"
        }
      ],
      "source": [
        "# show image 0\n",
        "ex1 = X[0]\n",
        "ex1_image = ex1.reshape(28, 28)\n",
        "plt.imshow(ex1_image, cmap='Greys')\n",
        "plt.show()"
      ]
    },
    {
      "cell_type": "code",
      "execution_count": null,
      "id": "9941d7a9",
      "metadata": {
        "id": "9941d7a9",
        "outputId": "734c8e4d-bbfe-4da1-ef2a-e80418363889"
      },
      "outputs": [
        {
          "data": {
            "text/plain": [
              "0.0"
            ]
          },
          "execution_count": 22,
          "metadata": {},
          "output_type": "execute_result"
        }
      ],
      "source": [
        "# label of image 0\n",
        "y[0]"
      ]
    },
    {
      "cell_type": "code",
      "execution_count": null,
      "id": "33f7536f",
      "metadata": {
        "id": "33f7536f",
        "outputId": "fac7ef69-01b6-437e-f040-5e300e347bcb"
      },
      "outputs": [
        {
          "data": {
            "image/png": "[encoded data removed]",
            "text/plain": [
              "<Figure size 432x288 with 1 Axes>"
            ]
          },
          "metadata": {
            "needs_background": "light"
          },
          "output_type": "display_data"
        }
      ],
      "source": [
        "# show image 50000\n",
        "ex1 = X[50000]\n",
        "ex1_image = ex1.reshape(28, 28)\n",
        "plt.imshow(ex1_image, cmap='Greys')\n",
        "plt.show()"
      ]
    },
    {
      "cell_type": "code",
      "execution_count": null,
      "id": "8ba191e5",
      "metadata": {
        "id": "8ba191e5",
        "outputId": "d18548e8-464e-4845-8dc7-44142b3f6df1"
      },
      "outputs": [
        {
          "data": {
            "text/plain": [
              "8.0"
            ]
          },
          "execution_count": 24,
          "metadata": {},
          "output_type": "execute_result"
        }
      ],
      "source": [
        "# label of image 50000\n",
        "y[50000]"
      ]
    },
    {
      "cell_type": "code",
      "execution_count": null,
      "id": "af13e18a",
      "metadata": {
        "id": "af13e18a"
      },
      "outputs": [],
      "source": [
        "# train/test split\n",
        "X_train, X_test = X[:60000], X[60000:]\n",
        "y_train, y_test = y[:60000], y[60000:]"
      ]
    },
    {
      "cell_type": "markdown",
      "id": "3517338c",
      "metadata": {
        "id": "3517338c"
      },
      "source": [
        "### One-hot encoding of class label"
      ]
    },
    {
      "cell_type": "code",
      "execution_count": null,
      "id": "b46cee81",
      "metadata": {
        "id": "b46cee81"
      },
      "outputs": [],
      "source": [
        "# function to encode class label to one-hot\n",
        "# ex> 2 --> 0 0 1 0 0 0 0 0 0 0\n",
        "def onehot(y, n_classes):\n",
        "\n",
        "    # y is an array of labels\n",
        "    # n_classes is number of different labels\n",
        "    onehot = np.zeros((y.shape[0], n_classes))\n",
        "\n",
        "    for idx, val in enumerate(y.astype(int)):\n",
        "        onehot[idx, val] = 1.\n",
        "    return onehot"
      ]
    },
    {
      "cell_type": "code",
      "execution_count": null,
      "id": "b3989385",
      "metadata": {
        "id": "b3989385",
        "outputId": "0d475963-d536-4d6b-d740-acae8b37de35"
      },
      "outputs": [
        {
          "name": "stdout",
          "output_type": "stream",
          "text": [
            "[[1. 0. 0.]\n",
            " [0. 1. 0.]\n",
            " [0. 0. 1.]\n",
            " [1. 0. 0.]\n",
            " [0. 1. 0.]\n",
            " [0. 0. 1.]]\n"
          ]
        }
      ],
      "source": [
        "# test onehot encoding\n",
        "y = np.array([0, 1, 2, 0, 1, 2])\n",
        "print(onehot(y, 3))"
      ]
    },
    {
      "cell_type": "markdown",
      "id": "6d156b46-8cf3-4d16-8636-b813ddf0be6a",
      "metadata": {
        "id": "6d156b46-8cf3-4d16-8636-b813ddf0be6a"
      },
      "source": [
        "### Generating batchs for Stochastic Gradient Descent\n",
        "![image.png](attachment:image.png)"
      ]
    },
    {
      "cell_type": "code",
      "execution_count": null,
      "id": "1e710459",
      "metadata": {
        "id": "1e710459",
        "outputId": "ffbdb6ce-d9b1-4642-eded-1866a0400f19"
      },
      "outputs": [
        {
          "name": "stdout",
          "output_type": "stream",
          "text": [
            "total number of data =  60000\n",
            "indices =  [    0     1     2 ... 59997 59998 59999]\n"
          ]
        }
      ],
      "source": [
        "# total number of data and total index\n",
        "n_data = X_train.shape[0]\n",
        "indices = np.arange(n_data)\n",
        "\n",
        "print(\"total number of data = \", n_data)\n",
        "print(\"indices = \", indices)"
      ]
    },
    {
      "cell_type": "code",
      "execution_count": null,
      "id": "20918aa5",
      "metadata": {
        "id": "20918aa5",
        "outputId": "bf639aff-9470-4a28-b180-4a91eddc232a"
      },
      "outputs": [
        {
          "name": "stdout",
          "output_type": "stream",
          "text": [
            "indices = [   0    1    2 ... 9997 9998 9999] batch data shape =  (10000, 784)\n",
            "indices = [10000 10001 10002 ... 19997 19998 19999] batch data shape =  (10000, 784)\n",
            "indices = [20000 20001 20002 ... 29997 29998 29999] batch data shape =  (10000, 784)\n",
            "indices = [30000 30001 30002 ... 39997 39998 39999] batch data shape =  (10000, 784)\n",
            "indices = [40000 40001 40002 ... 49997 49998 49999] batch data shape =  (10000, 784)\n",
            "indices = [50000 50001 50002 ... 59997 59998 59999] batch data shape =  (10000, 784)\n"
          ]
        }
      ],
      "source": [
        "# test generating batch training data of size 10000\n",
        "batch_size = 10000\n",
        "\n",
        "# for 0, 10000, 20000, ...\n",
        "for start_idx in range(0, indices.shape[0]-batch_size+1, batch_size):\n",
        "\n",
        "    # each batch has 10000 data\n",
        "    batch_idx = indices[start_idx : start_idx+batch_size]\n",
        "    print(\"indices =\", batch_idx, \"batch data shape = \", X_train[batch_idx].shape)"
      ]
    },
    {
      "cell_type": "markdown",
      "id": "33119fe9",
      "metadata": {
        "id": "33119fe9"
      },
      "source": [
        "### The Multilayer Perceptron class\n",
        "![image.png](attachment:image.png)"
      ]
    },
    {
      "cell_type": "code",
      "execution_count": null,
      "id": "3bd3a296",
      "metadata": {
        "id": "3bd3a296"
      },
      "outputs": [],
      "source": [
        "import sys\n",
        "\n",
        "class NeuralNetMLP(object):\n",
        "    '''\n",
        "    This model has 1 hidden layer\n",
        "\n",
        "    n_hidden :   number of hidden units\n",
        "    epochs :     number of epoches\n",
        "    alpha :      learning rate\n",
        "    shuffle :    if True, shuffle the training data each epoch\n",
        "    batch_size : size of batch training set\n",
        "    seed :       seed for random generation\n",
        "\n",
        "    z_h, a_h : z and output of hidden layer\n",
        "    z_o, a_o : z and output of output layer\n",
        "\n",
        "    n_samples :  number of total data\n",
        "    n_features : number of features of a data\n",
        "    n_output :   numner of output (number of class labels)\n",
        "\n",
        "    w_h, b_h : parameter of hidden layer. (n_features, n_hidden), (n_hidden)\n",
        "    w_o, b_o : parameter of output layer. (n_hidden, n_output), (n_output)\n",
        "\n",
        "    '''\n",
        "    def __init__(self, n_hidden=100, epochs=100, alpha=0.01,\n",
        "                 shuffle=True, batch_size=100, seed=None):\n",
        "\n",
        "        self.random = np.random.RandomState(seed)\n",
        "        self.n_hidden = n_hidden\n",
        "        self.epochs = epochs\n",
        "        self.alpha = alpha\n",
        "        self.shuffle = shuffle\n",
        "        self.batch_size = batch_size\n",
        "\n",
        "    # sigmoid function\n",
        "    def _sigmoid(self, z):\n",
        "        return 1. / (1. + np.exp(-np.clip(z, -250, 250)))  # np.clip - preventing overflow\n",
        "\n",
        "    # softmax function for 2D array\n",
        "    def _softmax(self, z):\n",
        "        exps = np.exp(z)\n",
        "        return exps / np.sum(exps, axis=1, keepdims=True)\n",
        "\n",
        "    # forward computation\n",
        "    def _forward(self, X):\n",
        "\n",
        "        # z and a of hidden layer. a = sigmoid(z)\n",
        "        # (n_samples, n_features) dot (n_features, n_hidden) -> (n_samples, n_hidden)\n",
        "        z_h = None\n",
        "        a_h = None\n",
        "\n",
        "        # z and a of output layer. a = softmax(z)\n",
        "        # (n_samples, n_hidden) dot (n_hidden, n_output) -> (n_samples, n_output)\n",
        "        z_o = None\n",
        "        a_o = None\n",
        "\n",
        "        return z_h, a_h, z_o, a_o\n",
        "\n",
        "    # compute cost - cross entropy\n",
        "    def _compute_cost(self, y_enc, output):\n",
        "\n",
        "        # y_enc :  onehot endcoded y (n_samples, n_output (labels))\n",
        "        # output : a_o of output layer (n_samples, n_output)\n",
        "        cost = None # output+1e-7 to prevent overflow\n",
        "\n",
        "        return cost\n",
        "\n",
        "    # predict class label\n",
        "    def predict(self, X):\n",
        "\n",
        "        # y_pred : index of max output (n_samples)\n",
        "        z_h, a_h, z_o, a_o = self._forward(X)\n",
        "        y_pred = None\n",
        "\n",
        "        return y_pred\n",
        "\n",
        "    # train the model\n",
        "    def fit(self, X_train, y_train):\n",
        "\n",
        "        # X_train : (n_samples, n_features)\n",
        "        # y_train : (n_samples)\n",
        "        self.n_samples = X_train.shape[0]\n",
        "        self.n_features = X_train.shape[1]\n",
        "        self.n_output = np.unique(y_train).shape[0]  # number of class labels\n",
        "\n",
        "        # initialize parameters\n",
        "        self.b_h = np.zeros(self.n_hidden)\n",
        "        self.w_h = self.random.normal(loc=0.0, scale=0.1, size=(self.n_features, self.n_hidden))\n",
        "        self.b_o = np.zeros(self.n_output)\n",
        "        self.w_o = self.random.normal(loc=0.0, scale=0.1, size=(self.n_hidden, self.n_output))\n",
        "\n",
        "        # one-hot encoding y_train\n",
        "        y_train_enc = onehot(y_train, self.n_output)\n",
        "\n",
        "        # print the dimension of model\n",
        "        print(\"number of input  = \", self.n_features)\n",
        "        print(\"number of hidden = \", self.n_hidden)\n",
        "        print(\"number of output = \", self.n_output)\n",
        "\n",
        "        # record cost\n",
        "        self.history = []\n",
        "\n",
        "        # gradient descent for total epochs\n",
        "        for i in range(self.epochs):\n",
        "\n",
        "            indices = np.arange(self.n_samples)\n",
        "            if self.shuffle:\n",
        "                self.random.shuffle(indices)\n",
        "\n",
        "            # for each batch\n",
        "            for start_idx in range(0, indices.shape[0]-self.batch_size+1, self.batch_size):\n",
        "                batch_idx = indices[start_idx:start_idx+self.batch_size]\n",
        "\n",
        "                X = X_train[batch_idx]\n",
        "                y = y_train_enc[batch_idx]\n",
        "\n",
        "                # forward computation\n",
        "                z_h, a_h, z_o, a_o = self._forward(X)\n",
        "\n",
        "                # compute deltas\n",
        "                delta_o = None                                        # [batch_size, n_output]\n",
        "                delta_h = None # [batch_size, n_hidden]\n",
        "\n",
        "                # compute gradients\n",
        "                grad_w_o = None      # [n_hidden, n_output]\n",
        "                grad_b_o = None\n",
        "                grad_w_h = np.dot(X.T, delta_h) / self.batch_size        # [n_features, n_hidden]\n",
        "                grad_b_h = np.sum(delta_h, axis=0) / self.batch_size\n",
        "\n",
        "                # update parameters\n",
        "                self.w_o = None    # [n_hidden, n_output]\n",
        "                self.b_o = None\n",
        "                self.w_h = self.w_h - self.alpha * grad_w_h     # [n_features, n_hidden]\n",
        "                self.b_h = self.b_h - self.alpha * grad_b_h\n",
        "\n",
        "            # record costs every epoch\n",
        "            z_h, a_h, z_o, a_o = self._forward(X_train)\n",
        "            cost = self._compute_cost(y_train_enc, a_o)\n",
        "            print('Iteration %5d: Cost %f ' % (i, cost))\n",
        "            self.history.append(cost)\n",
        "\n",
        "        return self"
      ]
    },
    {
      "cell_type": "markdown",
      "id": "733931f8",
      "metadata": {
        "id": "733931f8"
      },
      "source": [
        "### Training MLP"
      ]
    },
    {
      "cell_type": "code",
      "execution_count": null,
      "id": "7f154ffb",
      "metadata": {
        "id": "7f154ffb"
      },
      "outputs": [],
      "source": [
        "# multilayer perceptron with 1 hidden layer, 100 hidden units.\n",
        "# stochastic gradient descent with batch size 100. learning rate = 0.01, epochs = 100\n",
        "\n",
        "nn = NeuralNetMLP(n_hidden=100,\n",
        "                  epochs=100,\n",
        "                  alpha=0.01,\n",
        "                  batch_size=100,\n",
        "                  shuffle=True,\n",
        "                  seed=1)"
      ]
    },
    {
      "cell_type": "code",
      "execution_count": null,
      "id": "1aa02ffb",
      "metadata": {
        "id": "1aa02ffb",
        "outputId": "557e5223-7163-4041-a29e-a341ac82cec4"
      },
      "outputs": [
        {
          "name": "stdout",
          "output_type": "stream",
          "text": [
            "number of input  =  784\n",
            "number of hidden =  100\n",
            "number of output =  10\n",
            "Iteration     0: Cost 1.003301 \n",
            "Iteration     1: Cost 0.678887 \n",
            "Iteration     2: Cost 0.545278 \n",
            "Iteration     3: Cost 0.475429 \n",
            "Iteration     4: Cost 0.427215 \n",
            "Iteration     5: Cost 0.391475 \n",
            "Iteration     6: Cost 0.364307 \n",
            "Iteration     7: Cost 0.340373 \n",
            "Iteration     8: Cost 0.331018 \n",
            "Iteration     9: Cost 0.313169 \n",
            "Iteration    10: Cost 0.302126 \n",
            "Iteration    11: Cost 0.289829 \n",
            "Iteration    12: Cost 0.282312 \n",
            "Iteration    13: Cost 0.274791 \n",
            "Iteration    14: Cost 0.270024 \n",
            "Iteration    15: Cost 0.261128 \n",
            "Iteration    16: Cost 0.252893 \n",
            "Iteration    17: Cost 0.247832 \n",
            "Iteration    18: Cost 0.242523 \n",
            "Iteration    19: Cost 0.235945 \n",
            "Iteration    20: Cost 0.233016 \n",
            "Iteration    21: Cost 0.229360 \n",
            "Iteration    22: Cost 0.224466 \n",
            "Iteration    23: Cost 0.220540 \n",
            "Iteration    24: Cost 0.214813 \n",
            "Iteration    25: Cost 0.212168 \n",
            "Iteration    26: Cost 0.209461 \n",
            "Iteration    27: Cost 0.207210 \n",
            "Iteration    28: Cost 0.206466 \n",
            "Iteration    29: Cost 0.196358 \n",
            "Iteration    30: Cost 0.196094 \n",
            "Iteration    31: Cost 0.192961 \n",
            "Iteration    32: Cost 0.192299 \n",
            "Iteration    33: Cost 0.192700 \n",
            "Iteration    34: Cost 0.187659 \n",
            "Iteration    35: Cost 0.184100 \n",
            "Iteration    36: Cost 0.179010 \n",
            "Iteration    37: Cost 0.177062 \n",
            "Iteration    38: Cost 0.177148 \n",
            "Iteration    39: Cost 0.177655 \n",
            "Iteration    40: Cost 0.173867 \n",
            "Iteration    41: Cost 0.172179 \n",
            "Iteration    42: Cost 0.166742 \n",
            "Iteration    43: Cost 0.167785 \n",
            "Iteration    44: Cost 0.166801 \n",
            "Iteration    45: Cost 0.166730 \n",
            "Iteration    46: Cost 0.165294 \n",
            "Iteration    47: Cost 0.162029 \n",
            "Iteration    48: Cost 0.158945 \n",
            "Iteration    49: Cost 0.152756 \n",
            "Iteration    50: Cost 0.155105 \n",
            "Iteration    51: Cost 0.151653 \n",
            "Iteration    52: Cost 0.152560 \n",
            "Iteration    53: Cost 0.149534 \n",
            "Iteration    54: Cost 0.147722 \n",
            "Iteration    55: Cost 0.145228 \n",
            "Iteration    56: Cost 0.144978 \n",
            "Iteration    57: Cost 0.145525 \n",
            "Iteration    58: Cost 0.146033 \n",
            "Iteration    59: Cost 0.138744 \n",
            "Iteration    60: Cost 0.138564 \n",
            "Iteration    61: Cost 0.134543 \n",
            "Iteration    62: Cost 0.135022 \n",
            "Iteration    63: Cost 0.136132 \n",
            "Iteration    64: Cost 0.133649 \n",
            "Iteration    65: Cost 0.135422 \n",
            "Iteration    66: Cost 0.132457 \n",
            "Iteration    67: Cost 0.131425 \n",
            "Iteration    68: Cost 0.127472 \n",
            "Iteration    69: Cost 0.126407 \n",
            "Iteration    70: Cost 0.124049 \n",
            "Iteration    71: Cost 0.125929 \n",
            "Iteration    72: Cost 0.125756 \n",
            "Iteration    73: Cost 0.125909 \n",
            "Iteration    74: Cost 0.120564 \n",
            "Iteration    75: Cost 0.122907 \n",
            "Iteration    76: Cost 0.118462 \n",
            "Iteration    77: Cost 0.117452 \n",
            "Iteration    78: Cost 0.116132 \n",
            "Iteration    79: Cost 0.116260 \n",
            "Iteration    80: Cost 0.117891 \n",
            "Iteration    81: Cost 0.117906 \n",
            "Iteration    82: Cost 0.114939 \n",
            "Iteration    83: Cost 0.112823 \n",
            "Iteration    84: Cost 0.110029 \n",
            "Iteration    85: Cost 0.111297 \n",
            "Iteration    86: Cost 0.113982 \n",
            "Iteration    87: Cost 0.112701 \n",
            "Iteration    88: Cost 0.113167 \n",
            "Iteration    89: Cost 0.107517 \n",
            "Iteration    90: Cost 0.107753 \n",
            "Iteration    91: Cost 0.108252 \n",
            "Iteration    92: Cost 0.105177 \n",
            "Iteration    93: Cost 0.103488 \n",
            "Iteration    94: Cost 0.104936 \n",
            "Iteration    95: Cost 0.103193 \n",
            "Iteration    96: Cost 0.102950 \n",
            "Iteration    97: Cost 0.102582 \n",
            "Iteration    98: Cost 0.099303 \n",
            "Iteration    99: Cost 0.099824 \n"
          ]
        },
        {
          "data": {
            "text/plain": [
              "<__main__.NeuralNetMLP at 0x18c70b36c10>"
            ]
          },
          "execution_count": 32,
          "metadata": {},
          "output_type": "execute_result"
        }
      ],
      "source": [
        "# train the network with 60000 training data\n",
        "None"
      ]
    },
    {
      "cell_type": "markdown",
      "id": "60de210e",
      "metadata": {
        "id": "60de210e"
      },
      "source": [
        "### Number of parameters"
      ]
    },
    {
      "cell_type": "code",
      "execution_count": null,
      "id": "cf625d1a",
      "metadata": {
        "id": "cf625d1a",
        "outputId": "2cdbd3a4-693a-487f-8e3e-c9ea5247cb99"
      },
      "outputs": [
        {
          "name": "stdout",
          "output_type": "stream",
          "text": [
            "shape of w_h =  (784, 100)\n",
            "shape of b_h =  (100,)\n",
            "shape of w_o =  (100, 10)\n",
            "shape of b_o =  (10,)\n",
            "total number of parameters =  79510\n"
          ]
        }
      ],
      "source": [
        "# check the total number of parameters\n",
        "print(\"shape of w_h = \", nn.w_h.shape)\n",
        "print(\"shape of b_h = \", nn.b_h.shape)\n",
        "print(\"shape of w_o = \", nn.w_o.shape)\n",
        "print(\"shape of b_o = \", nn.b_o.shape)\n",
        "print(\"total number of parameters = \", nn.w_h.shape[0]*nn.w_h.shape[1] + nn.b_h.shape[0] + nn.w_o.shape[0]*nn.w_o.shape[1] + nn.b_o.shape[0])"
      ]
    },
    {
      "cell_type": "markdown",
      "id": "3d5a4c39",
      "metadata": {
        "id": "3d5a4c39"
      },
      "source": [
        "### Plot the cost change"
      ]
    },
    {
      "cell_type": "code",
      "execution_count": null,
      "id": "9aa9816e",
      "metadata": {
        "id": "9aa9816e",
        "outputId": "ed7a5f75-354f-48a8-dc0c-e50913ec11de"
      },
      "outputs": [
        {
          "data": {
            "image/png": "[encoded data removed]",
            "text/plain": [
              "<Figure size 432x288 with 1 Axes>"
            ]
          },
          "metadata": {
            "needs_background": "light"
          },
          "output_type": "display_data"
        }
      ],
      "source": [
        "import matplotlib.pyplot as plt\n",
        "\n",
        "# plot the loss - history\n",
        "None\n",
        "\n",
        "plt.ylabel('Cost')\n",
        "plt.xlabel('Epochs')\n",
        "plt.show()"
      ]
    },
    {
      "cell_type": "markdown",
      "id": "a947eb44",
      "metadata": {
        "id": "a947eb44"
      },
      "source": [
        "### Accuracy of the model"
      ]
    },
    {
      "cell_type": "code",
      "execution_count": null,
      "id": "dc91ddb1",
      "metadata": {
        "id": "dc91ddb1",
        "outputId": "eace1930-1c1f-4020-c2d1-fd442cca8622"
      },
      "outputs": [
        {
          "name": "stdout",
          "output_type": "stream",
          "text": [
            "train 정확도: 97.26%\n",
            "test 정확도: 95.55%\n"
          ]
        }
      ],
      "source": [
        "# training accuracy\n",
        "y_train_pred = None\n",
        "acc = None\n",
        "\n",
        "print('train 정확도: %.2f%%' % (acc * 100))\n",
        "\n",
        "# test accuracy\n",
        "y_test_pred = None\n",
        "acc = None\n",
        "\n",
        "print('test 정확도: %.2f%%' % (acc * 100))"
      ]
    },
    {
      "cell_type": "markdown",
      "id": "2e7211f7",
      "metadata": {
        "id": "2e7211f7"
      },
      "source": [
        "### Classification test"
      ]
    },
    {
      "cell_type": "code",
      "execution_count": null,
      "id": "55299e20",
      "metadata": {
        "id": "55299e20",
        "outputId": "e1f62416-4f45-497f-e802-ef91237e3623"
      },
      "outputs": [
        {
          "data": {
            "image/png": "[encoded data removed]",
            "text/plain": [
              "<Figure size 432x288 with 1 Axes>"
            ]
          },
          "metadata": {
            "needs_background": "light"
          },
          "output_type": "display_data"
        }
      ],
      "source": [
        "# show image 63000\n",
        "\n",
        "ex = X[63000]\n",
        "ex_image = ex.reshape(28, 28)\n",
        "plt.imshow(ex_image, cmap='Greys')\n",
        "plt.show()"
      ]
    },
    {
      "cell_type": "code",
      "execution_count": null,
      "id": "5b06afcf",
      "metadata": {
        "id": "5b06afcf",
        "outputId": "0bb7edad-168c-4e91-ac0c-d2125591a2b5"
      },
      "outputs": [
        {
          "name": "stdout",
          "output_type": "stream",
          "text": [
            "The image is number :  2\n"
          ]
        }
      ],
      "source": [
        "# classification - predict label of image 63000\n",
        "pred = nn.predict([ex])\n",
        "print(\"The image is number : \", pred[0])"
      ]
    },
    {
      "cell_type": "markdown",
      "id": "0380ee7e",
      "metadata": {
        "id": "0380ee7e"
      },
      "source": [
        "---\n"
      ]
    },
    {
      "cell_type": "markdown",
      "id": "c959661a",
      "metadata": {
        "id": "c959661a"
      },
      "source": [
        "# 3. Multilayer perceptron using scikit learn"
      ]
    },
    {
      "cell_type": "markdown",
      "id": "f1229471",
      "metadata": {
        "id": "f1229471"
      },
      "source": [
        "### Standardize data"
      ]
    },
    {
      "cell_type": "code",
      "execution_count": null,
      "id": "d66372ea",
      "metadata": {
        "id": "d66372ea"
      },
      "outputs": [],
      "source": [
        "from sklearn.preprocessing import StandardScaler\n",
        "\n",
        "# standardize data\n",
        "sc = StandardScaler()\n",
        "sc.fit(X_train)\n",
        "X_train_std = sc.transform(X_train)\n",
        "X_test_std = sc.transform(X_test)"
      ]
    },
    {
      "cell_type": "code",
      "execution_count": null,
      "id": "3a4a0f19",
      "metadata": {
        "id": "3a4a0f19",
        "outputId": "4fa226cd-9680-4b4f-a7b5-1453b576c43a"
      },
      "outputs": [
        {
          "data": {
            "text/plain": [
              "(60000,)"
            ]
          },
          "execution_count": 39,
          "metadata": {},
          "output_type": "execute_result"
        }
      ],
      "source": [
        "y_train.shape"
      ]
    },
    {
      "cell_type": "markdown",
      "id": "1ead0c95",
      "metadata": {
        "id": "1ead0c95"
      },
      "source": [
        "### Train MLPClassifier"
      ]
    },
    {
      "cell_type": "code",
      "execution_count": null,
      "id": "1d6895a4",
      "metadata": {
        "id": "1d6895a4",
        "outputId": "a95ae561-9ed3-4895-deed-7aefc332ecf9"
      },
      "outputs": [
        {
          "name": "stdout",
          "output_type": "stream",
          "text": [
            "Iteration 1, loss = 0.41689056\n",
            "Iteration 2, loss = 0.25026337\n",
            "Iteration 3, loss = 0.20809725\n",
            "Iteration 4, loss = 0.18444219\n",
            "Iteration 5, loss = 0.16713313\n",
            "Iteration 6, loss = 0.15427066\n",
            "Iteration 7, loss = 0.14313532\n",
            "Iteration 8, loss = 0.13586182\n",
            "Iteration 9, loss = 0.12837024\n",
            "Iteration 10, loss = 0.12232528\n",
            "Iteration 11, loss = 0.11778416\n",
            "Iteration 12, loss = 0.11328087\n",
            "Iteration 13, loss = 0.10974739\n",
            "Iteration 14, loss = 0.10637758\n",
            "Iteration 15, loss = 0.10370598\n",
            "Iteration 16, loss = 0.10095428\n",
            "Iteration 17, loss = 0.09835926\n",
            "Iteration 18, loss = 0.09663742\n",
            "Iteration 19, loss = 0.09553043\n",
            "Iteration 20, loss = 0.09343205\n",
            "Iteration 21, loss = 0.09240505\n",
            "Iteration 22, loss = 0.09081009\n",
            "Iteration 23, loss = 0.09006995\n",
            "Iteration 24, loss = 0.08928516\n",
            "Iteration 25, loss = 0.08832028\n",
            "Iteration 26, loss = 0.08784616\n",
            "Iteration 27, loss = 0.08727906\n",
            "Iteration 28, loss = 0.08623176\n",
            "Iteration 29, loss = 0.08509248\n",
            "Iteration 30, loss = 0.08503916\n",
            "Iteration 31, loss = 0.08472869\n",
            "Iteration 32, loss = 0.08454073\n",
            "Iteration 33, loss = 0.08343270\n",
            "Iteration 34, loss = 0.08390219\n",
            "Iteration 35, loss = 0.08299714\n",
            "Iteration 36, loss = 0.08250653\n",
            "Iteration 37, loss = 0.08278885\n",
            "Iteration 38, loss = 0.08456384\n",
            "Iteration 39, loss = 0.08274158\n",
            "Iteration 40, loss = 0.08234007\n",
            "Iteration 41, loss = 0.08436894\n",
            "Iteration 42, loss = 0.08443855\n",
            "Iteration 43, loss = 0.08331360\n",
            "Iteration 44, loss = 0.08248065\n",
            "Iteration 45, loss = 0.08223552\n",
            "Iteration 46, loss = 0.08144645\n",
            "Iteration 47, loss = 0.08121637\n",
            "Iteration 48, loss = 0.08067893\n",
            "Iteration 49, loss = 0.08085716\n",
            "Iteration 50, loss = 0.08066155\n",
            "Iteration 51, loss = 0.08004372\n",
            "Iteration 52, loss = 0.08013447\n",
            "Iteration 53, loss = 0.07977591\n",
            "Iteration 54, loss = 0.07965036\n",
            "Iteration 55, loss = 0.07944386\n",
            "Iteration 56, loss = 0.07946776\n",
            "Iteration 57, loss = 0.07925961\n",
            "Iteration 58, loss = 0.07914650\n",
            "Iteration 59, loss = 0.07929907\n",
            "Iteration 60, loss = 0.07894741\n",
            "Iteration 61, loss = 0.07908353\n",
            "Iteration 62, loss = 0.07883906\n",
            "Iteration 63, loss = 0.07907499\n",
            "Iteration 64, loss = 0.07903927\n",
            "Iteration 65, loss = 0.07924408\n",
            "Iteration 66, loss = 0.07911657\n",
            "Iteration 67, loss = 0.07904405\n",
            "Iteration 68, loss = 0.07849868\n",
            "Iteration 69, loss = 0.07857384\n",
            "Iteration 70, loss = 0.07875606\n",
            "Iteration 71, loss = 0.07825730\n",
            "Iteration 72, loss = 0.07837397\n",
            "Iteration 73, loss = 0.07842687\n",
            "Iteration 74, loss = 0.07808086\n",
            "Iteration 75, loss = 0.07820606\n",
            "Iteration 76, loss = 0.07881078\n",
            "Iteration 77, loss = 0.07923678\n",
            "Iteration 78, loss = 0.08155256\n",
            "Iteration 79, loss = 0.08076600\n",
            "Iteration 80, loss = 0.07974082\n",
            "Iteration 81, loss = 0.07954405\n",
            "Iteration 82, loss = 0.07903510\n",
            "Iteration 83, loss = 0.07838956\n",
            "Iteration 84, loss = 0.07840940\n",
            "Iteration 85, loss = 0.07808378\n",
            "Training loss did not improve more than tol=0.000100 for 10 consecutive epochs. Stopping.\n"
          ]
        },
        {
          "data": {
            "text/plain": [
              "MLPClassifier(alpha=0.1, batch_size=100, hidden_layer_sizes=100,\n",
              "              learning_rate_init=0.01, max_iter=100, random_state=0,\n",
              "              solver='sgd', verbose=10)"
            ]
          },
          "execution_count": 40,
          "metadata": {},
          "output_type": "execute_result"
        }
      ],
      "source": [
        "from sklearn.neural_network import MLPClassifier\n",
        "\n",
        "# Multilayer perceptron from scikit learn with 1 hidden layer, 100 hidden units\n",
        "# stochastic gradient descent with batch size 100. learning rate = 0.01, L2 regularization parameter = 1e-1,\n",
        "mlp = MLPClassifier(hidden_layer_sizes=(100), batch_size=100, max_iter=100, alpha=1e-1,\n",
        "                    solver='sgd', verbose=10, tol=1e-4, random_state=0,\n",
        "                    learning_rate_init=0.01)\n",
        "\n",
        "mlp.fit(X_train_std, y_train)"
      ]
    },
    {
      "cell_type": "markdown",
      "id": "c28722d1",
      "metadata": {
        "id": "c28722d1"
      },
      "source": [
        "### Plot the cost change"
      ]
    },
    {
      "cell_type": "code",
      "execution_count": null,
      "id": "442dd53a",
      "metadata": {
        "id": "442dd53a",
        "outputId": "591815b1-a057-4367-fa55-59985d2ba627"
      },
      "outputs": [
        {
          "data": {
            "image/png": "[encoded data removed]",
            "text/plain": [
              "<Figure size 432x288 with 1 Axes>"
            ]
          },
          "metadata": {
            "needs_background": "light"
          },
          "output_type": "display_data"
        }
      ],
      "source": [
        "# plot the loss. use loss_curve_\n",
        "plt.plot(mlp.loss_curve_)\n",
        "plt.show()"
      ]
    },
    {
      "cell_type": "markdown",
      "id": "a19f7e07",
      "metadata": {
        "id": "a19f7e07"
      },
      "source": [
        "### Accuracy of the model"
      ]
    },
    {
      "cell_type": "code",
      "execution_count": null,
      "id": "2a8a4c29",
      "metadata": {
        "id": "2a8a4c29",
        "outputId": "ea1fa69a-0151-49f9-bfa3-740e73857161"
      },
      "outputs": [
        {
          "name": "stdout",
          "output_type": "stream",
          "text": [
            "Train accuracy : 0.9978\n",
            "Train accuracy : 0.9780\n"
          ]
        }
      ],
      "source": [
        "# Train and test accuracy\n",
        "acc = None\n",
        "print(\"Train accuracy : %.4f\" % acc)\n",
        "acc = mlp.score(X_test_std, y_test)\n",
        "print(\"Train accuracy : %.4f\" % acc)"
      ]
    },
    {
      "cell_type": "markdown",
      "id": "c4182f85",
      "metadata": {
        "id": "c4182f85"
      },
      "source": [
        "### Classification test"
      ]
    },
    {
      "cell_type": "code",
      "execution_count": null,
      "id": "b2313f32",
      "metadata": {
        "id": "b2313f32",
        "outputId": "b43a168a-1547-453f-f4b9-c7e630c06ca9"
      },
      "outputs": [
        {
          "data": {
            "image/png": "[encoded data removed]",
            "text/plain": [
              "<Figure size 432x288 with 1 Axes>"
            ]
          },
          "metadata": {
            "needs_background": "light"
          },
          "output_type": "display_data"
        }
      ],
      "source": [
        "# show image 63000\n",
        "ex = X[63000]\n",
        "ex_image = ex.reshape(28, 28)\n",
        "plt.imshow(ex_image, cmap='Greys')\n",
        "plt.show()"
      ]
    },
    {
      "cell_type": "code",
      "execution_count": null,
      "id": "03f27cc2",
      "metadata": {
        "id": "03f27cc2",
        "outputId": "4ed5bdc7-76d4-4b09-b72c-be41413f31bd"
      },
      "outputs": [
        {
          "name": "stdout",
          "output_type": "stream",
          "text": [
            "The image is number :  2\n"
          ]
        }
      ],
      "source": [
        "# classification - predict label of image 63000\n",
        "pred = nn.predict([ex])\n",
        "print(\"The image is number : \", pred[0])"
      ]
    },
    {
      "cell_type": "markdown",
      "id": "baa2a306",
      "metadata": {
        "id": "baa2a306"
      },
      "source": [
        "### Examples of incorrect classification"
      ]
    },
    {
      "cell_type": "code",
      "execution_count": null,
      "id": "f01afe94",
      "metadata": {
        "id": "f01afe94",
        "outputId": "71e8c394-1fb7-42cc-bb34-a9b893aac362"
      },
      "outputs": [
        {
          "name": "stdout",
          "output_type": "stream",
          "text": [
            "total 445 images are incorrectly classified\n",
            "samples(t:true label, p:predicted label):\n"
          ]
        },
        {
          "data": {
            "image/png": "[encoded data removed]",
            "text/plain": [
              "<Figure size 432x288 with 10 Axes>"
            ]
          },
          "metadata": {
            "needs_background": "light"
          },
          "output_type": "display_data"
        }
      ],
      "source": [
        "# check the incorrect results\n",
        "mistake_img = X_test[y_test != y_test_pred]\n",
        "true_lab = y_test[y_test != y_test_pred]\n",
        "pred_lab = y_test_pred[y_test != y_test_pred]\n",
        "\n",
        "print(\"total %d images are incorrectly classified\" % mistake_img.shape[0])\n",
        "print(\"samples(t:true label, p:predicted label):\")\n",
        "\n",
        "# show the misclassified image examples\n",
        "fig, ax = plt.subplots(nrows=2, ncols=5, sharex=True, sharey=True)\n",
        "ax = ax.flatten()\n",
        "for i in range(10):\n",
        "    img = mistake_img[true_lab == i][0].reshape(28, 28)\n",
        "    ax[i].imshow(img, cmap='Greys')\n",
        "    ax[i].set_title('t: %d p: %d' % (true_lab[true_lab == i][0], pred_lab[true_lab == i][0]))\n",
        "\n",
        "plt.show()"
      ]
    },
    {
      "cell_type": "markdown",
      "id": "e31ca5c1",
      "metadata": {
        "id": "e31ca5c1"
      },
      "source": [
        "### Number of parameters"
      ]
    },
    {
      "cell_type": "code",
      "execution_count": null,
      "id": "8db3d6ae",
      "metadata": {
        "id": "8db3d6ae",
        "outputId": "14465cc0-df56-488b-e5d3-13303119ea85"
      },
      "outputs": [
        {
          "name": "stdout",
          "output_type": "stream",
          "text": [
            "shape of w[0]  (784, 100)\n",
            "shape of b[0]  (100,)\n",
            "shape of w[1]  (100, 10)\n",
            "shape of b[1]  (10,)\n",
            "total number of parameters =  79510\n"
          ]
        }
      ],
      "source": [
        "# check the total number of parameters\n",
        "# parameters are mlp.coefs_ and mlp.intercepts_\n",
        "print(\"shape of w[0] \", mlp.coefs_[0].shape)\n",
        "print(\"shape of b[0] \", mlp.intercepts_[0].shape)\n",
        "print(\"shape of w[1] \", mlp.coefs_[1].shape)\n",
        "print(\"shape of b[1] \", mlp.intercepts_[1].shape)\n",
        "print(\"total number of parameters = \", mlp.coefs_[0].shape[0]*mlp.coefs_[0].shape[1] + mlp.intercepts_[0].shape[0]\n",
        "                                     + mlp.coefs_[1].shape[0]*mlp.coefs_[1].shape[1] + mlp.intercepts_[1].shape[0])"
      ]
    },
    {
      "cell_type": "markdown",
      "id": "e888686a",
      "metadata": {
        "id": "e888686a"
      },
      "source": [
        "### Visualize parameters"
      ]
    },
    {
      "cell_type": "code",
      "execution_count": null,
      "id": "1f648e47",
      "metadata": {
        "id": "1f648e47",
        "outputId": "46f929de-5c65-4c63-e615-99a50e13c2f2"
      },
      "outputs": [
        {
          "data": {
            "text/plain": [
              "(784, 100)"
            ]
          },
          "execution_count": 46,
          "metadata": {},
          "output_type": "execute_result"
        }
      ],
      "source": [
        "# weights of hidden layer\n",
        "mlp.coefs_[0].shape"
      ]
    },
    {
      "cell_type": "code",
      "execution_count": null,
      "id": "f5744969",
      "metadata": {
        "id": "f5744969",
        "outputId": "18c1c43d-5efb-4d54-f06b-557b0f128f4f"
      },
      "outputs": [
        {
          "data": {
            "image/png": "[encoded data removed]",
            "text/plain": [
              "<Figure size 432x432 with 100 Axes>"
            ]
          },
          "metadata": {},
          "output_type": "display_data"
        }
      ],
      "source": [
        "# display weights of hidden layer (784, 100)\n",
        "\n",
        "fig, axes = plt.subplots(10, 10, figsize=(6, 6))\n",
        "plt.figsize = 20\n",
        "\n",
        "# use global min / max to ensure all weights are shown on the same scale\n",
        "vmin, vmax = mlp.coefs_[0].min(), mlp.coefs_[0].max()\n",
        "for coef, ax in zip(mlp.coefs_[0].T, axes.ravel()):\n",
        "    ax.matshow(coef.reshape(28, 28), cmap=plt.cm.gray, vmin=.5 * vmin, vmax=.5 * vmax)\n",
        "    ax.set_xticks(())\n",
        "    ax.set_yticks(())\n",
        "\n",
        "plt.show()"
      ]
    },
    {
      "cell_type": "code",
      "execution_count": null,
      "id": "6337b681",
      "metadata": {
        "id": "6337b681",
        "outputId": "36f62803-93cb-46b7-ab4d-2b59dc933553"
      },
      "outputs": [
        {
          "data": {
            "text/plain": [
              "(100, 10)"
            ]
          },
          "execution_count": 49,
          "metadata": {},
          "output_type": "execute_result"
        }
      ],
      "source": [
        "# weights of output layer\n",
        "mlp.coefs_[1].shape"
      ]
    },
    {
      "cell_type": "code",
      "execution_count": null,
      "id": "728daa67",
      "metadata": {
        "id": "728daa67",
        "outputId": "819fe747-1be0-4f44-ecf4-b37fe16eed06"
      },
      "outputs": [
        {
          "data": {
            "image/png": "[encoded data removed]",
            "text/plain": [
              "<Figure size 432x288 with 10 Axes>"
            ]
          },
          "metadata": {},
          "output_type": "display_data"
        }
      ],
      "source": [
        "# display weights of output layer (100, 10)\n",
        "fig, axes = plt.subplots(1, 10)\n",
        "\n",
        "# use global min / max to ensure all weights are shown on the same scale\n",
        "vmin, vmax = mlp.coefs_[1].min(), mlp.coefs_[1].max()\n",
        "for coef, ax in zip(mlp.coefs_[1].T, axes.ravel()):\n",
        "    ax.matshow(coef.reshape(10, 10), cmap=plt.cm.gray, vmin=.5 * vmin, vmax=.5 * vmax)\n",
        "    ax.set_xticks(())\n",
        "    ax.set_yticks(())\n",
        "\n",
        "plt.show()"
      ]
    }
  ],
  "metadata": {
    "kernelspec": {
      "display_name": "Python 3 (ipykernel)",
      "language": "python",
      "name": "python3"
    },
    "language_info": {
      "codemirror_mode": {
        "name": "ipython",
        "version": 3
      },
      "file_extension": ".py",
      "mimetype": "text/x-python",
      "name": "python",
      "nbconvert_exporter": "python",
      "pygments_lexer": "ipython3",
      "version": "3.10.9"
    },
    "colab": {
      "provenance": [],
      "include_colab_link": true
    }
  },
  "nbformat": 4,
  "nbformat_minor": 5
}